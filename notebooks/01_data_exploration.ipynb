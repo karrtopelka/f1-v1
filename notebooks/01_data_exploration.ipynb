{
 "cells": [
  {
   "cell_type": "markdown",
   "metadata": {},
   "source": [
    "## Import Libraries\n",
    "In your notebook, start by importing the necessary libraries:"
   ]
  },
  {
   "cell_type": "code",
   "execution_count": 1,
   "metadata": {},
   "outputs": [],
   "source": [
    "import fastf1\n",
    "import pandas as pd\n",
    "import numpy as np\n",
    "import matplotlib.pyplot as plt\n",
    "import seaborn as sns\n",
    "\n",
    "# Configure matplotlib for inline plotting\n",
    "%matplotlib inline"
   ]
  },
  {
   "cell_type": "markdown",
   "metadata": {},
   "source": [
    "## Enable FastF1 Cache\n",
    "Enable caching to store data locally and speed up data loading:"
   ]
  },
  {
   "cell_type": "code",
   "execution_count": 2,
   "metadata": {},
   "outputs": [],
   "source": [
    "fastf1.Cache.enable_cache('../data')  # Cache data in the 'data' directory"
   ]
  },
  {
   "cell_type": "markdown",
   "metadata": {},
   "source": [
    "# Collecting Historical Data\n",
    "To train a machine learning model, we'll need data from multiple races. Let's collect data from several races and seasons."
   ]
  },
  {
   "cell_type": "markdown",
   "metadata": {},
   "source": [
    "## Define a Function to Collect Race Data"
   ]
  },
  {
   "cell_type": "code",
   "execution_count": 3,
   "metadata": {},
   "outputs": [],
   "source": [
    "def collect_race_data(years, race_names):\n",
    "    all_results = []\n",
    "    all_laps = []\n",
    "    all_qualy = []\n",
    "    all_car_data = []\n",
    "    all_positions = []\n",
    "\n",
    "    for year in years:\n",
    "        for race_name in race_names:\n",
    "            try:\n",
    "                fastf1.Cache.offline_mode(enabled=True)\n",
    "                # Load race session\n",
    "                session = fastf1.get_session(year, race_name, 'R')\n",
    "\n",
    "                if session is None:\n",
    "                    print(f\"Session not found for {year} {race_name}\")\n",
    "                    continue\n",
    "\n",
    "                session.load()\n",
    "\n",
    "                results = session.results\n",
    "                results['Year'] = year\n",
    "                results['RaceName'] = race_name\n",
    "                all_results.append(results)\n",
    "\n",
    "                # Collect lap data\n",
    "                laps = session.laps\n",
    "                weather_data = laps.get_weather_data()\n",
    "                laps = laps.reset_index(drop=True)\n",
    "                weather_data = weather_data.reset_index(drop=True)\n",
    "                joined = pd.concat([laps, weather_data.loc[:, ~(weather_data.columns == 'Time')]], axis=1)\n",
    "                laps['Year'] = year\n",
    "                laps['RaceName'] = race_name\n",
    "                all_laps.append(joined)\n",
    "\n",
    "                # Collect telemetry and positional data\n",
    "                car_data = session.car_data\n",
    "                pos_data = session.pos_data\n",
    "\n",
    "                # Collect telemetry data for each driver\n",
    "                for driver in session.drivers:\n",
    "                    # Collect telemetry for the driver\n",
    "                    if driver in car_data:\n",
    "                        driver_car_data = car_data[driver]\n",
    "                        driver_car_data['DriverNumber'] = driver\n",
    "                        driver_car_data['Year'] = year\n",
    "                        driver_car_data['RaceName'] = race_name\n",
    "                        all_car_data.append(driver_car_data)\n",
    "\n",
    "                    # Collect positional data for the driver\n",
    "                    if driver in pos_data:\n",
    "                        driver_pos_data = pos_data[driver]\n",
    "                        driver_pos_data['DriverNumber'] = driver\n",
    "                        driver_pos_data['Year'] = year\n",
    "                        driver_pos_data['RaceName'] = race_name\n",
    "                        all_positions.append(driver_pos_data)\n",
    "\n",
    "                # Load qualifying session\n",
    "                qualy_session = fastf1.get_session(year, race_name, 'Q')\n",
    "                qualy_session.load()\n",
    "                qualy_results = qualy_session.results\n",
    "                qualy_results['Year'] = year\n",
    "                qualy_results['RaceName'] = race_name\n",
    "                all_qualy.append(qualy_results[['DriverNumber', 'Position']].rename(columns={'Position': 'QualiPosition'}))\n",
    "\n",
    "                print(f\"Loaded data for {race_name} {year}\")\n",
    "            except Exception as e:\n",
    "                print(f\"Error loading {race_name} {year}: {e}\")\n",
    "\n",
    "    # Concatenate all results and laps dataframes\n",
    "    all_results_df = pd.concat(all_results, ignore_index=True)\n",
    "    all_laps_df = pd.concat(all_laps, ignore_index=True)\n",
    "    all_qualy_df = pd.concat(all_qualy, ignore_index=True)\n",
    "    all_car_data = pd.concat(all_car_data, ignore_index=True)\n",
    "    all_positions_df = pd.concat(all_positions, ignore_index=True)\n",
    "\n",
    "    return all_results_df, all_laps_df, all_qualy_df, all_car_data, all_positions_df\n"
   ]
  },
  {
   "cell_type": "markdown",
   "metadata": {},
   "source": [
    "## Collect Data\n",
    "Specify the years and races you're interested in:"
   ]
  },
  {
   "cell_type": "code",
   "execution_count": 4,
   "metadata": {},
   "outputs": [
    {
     "name": "stderr",
     "output_type": "stream",
     "text": [
      "core           INFO \tLoading data for Austrian Grand Prix - Race [v3.4.0]\n",
      "req            INFO \tUsing cached data for session_info\n",
      "req            INFO \tUsing cached data for driver_info\n",
      "req            INFO \tUsing cached data for session_status_data\n",
      "req            INFO \tUsing cached data for lap_count\n",
      "req            INFO \tUsing cached data for track_status_data\n",
      "req            INFO \tUsing cached data for _extended_timing_data\n",
      "req            INFO \tUsing cached data for timing_app_data\n",
      "core           INFO \tProcessing timing data...\n",
      "core        WARNING \tDriver 77: Lap timing integrity check failed for 1 lap(s)\n",
      "core        WARNING \tDriver 16: Lap timing integrity check failed for 1 lap(s)\n",
      "core        WARNING \tDriver  4: Lap timing integrity check failed for 1 lap(s)\n",
      "core        WARNING \tDriver 44: Lap timing integrity check failed for 1 lap(s)\n",
      "core        WARNING \tDriver 55: Lap timing integrity check failed for 1 lap(s)\n",
      "core        WARNING \tDriver 11: Lap timing integrity check failed for 1 lap(s)\n",
      "core        WARNING \tDriver 10: Lap timing integrity check failed for 1 lap(s)\n",
      "core        WARNING \tDriver 31: Lap timing integrity check failed for 1 lap(s)\n",
      "core        WARNING \tDriver 99: Lap timing integrity check failed for 1 lap(s)\n",
      "core        WARNING \tDriver  5: Lap timing integrity check failed for 1 lap(s)\n",
      "core        WARNING \tDriver 26: Lap timing integrity check failed for 1 lap(s)\n",
      "core        WARNING \tDriver 23: Lap timing integrity check failed for 1 lap(s)\n",
      "core        WARNING \tDriver  8: Lap timing integrity check failed for 1 lap(s)\n",
      "core        WARNING \tDriver 20: Lap timing integrity check failed for 1 lap(s)\n",
      "core        WARNING \tDriver 18: Lap timing integrity check failed for 1 lap(s)\n",
      "core        WARNING \tDriver  3: Lap timing integrity check failed for 1 lap(s)\n",
      "req            INFO \tUsing cached data for car_data\n",
      "req            INFO \tUsing cached data for position_data\n",
      "req            INFO \tUsing cached data for weather_data\n",
      "req            INFO \tUsing cached data for race_control_messages\n",
      "core           INFO \tFinished loading data for 20 drivers: ['77', '16', '4', '44', '55', '11', '10', '31', '99', '5', '6', '26', '23', '7', '63', '8', '20', '18', '3', '33']\n",
      "core           INFO \tLoading data for Austrian Grand Prix - Qualifying [v3.4.0]\n",
      "req            INFO \tUsing cached data for session_info\n",
      "req            INFO \tUsing cached data for driver_info\n",
      "req            INFO \tUsing cached data for session_status_data\n",
      "req            INFO \tUsing cached data for track_status_data\n",
      "req            INFO \tUsing cached data for _extended_timing_data\n",
      "req            INFO \tUsing cached data for timing_app_data\n",
      "core           INFO \tProcessing timing data...\n",
      "req            INFO \tUsing cached data for car_data\n",
      "req            INFO \tUsing cached data for position_data\n",
      "req            INFO \tUsing cached data for weather_data\n",
      "req            INFO \tUsing cached data for race_control_messages\n",
      "core           INFO \tFinished loading data for 20 drivers: ['77', '44', '33', '4', '23', '11', '16', '55', '18', '3', '5', '10', '26', '31', '8', '20', '63', '99', '7', '6']\n",
      "core           INFO \tLoading data for Styrian Grand Prix - Race [v3.4.0]\n",
      "req            INFO \tUsing cached data for session_info\n",
      "req            INFO \tUsing cached data for driver_info\n",
      "req            INFO \tUsing cached data for session_status_data\n",
      "req            INFO \tUsing cached data for lap_count\n",
      "req            INFO \tUsing cached data for track_status_data\n",
      "req            INFO \tUsing cached data for _extended_timing_data\n",
      "req            INFO \tUsing cached data for timing_app_data\n",
      "core           INFO \tProcessing timing data...\n"
     ]
    },
    {
     "name": "stdout",
     "output_type": "stream",
     "text": [
      "Loaded data for 1 2020\n"
     ]
    },
    {
     "name": "stderr",
     "output_type": "stream",
     "text": [
      "req            INFO \tUsing cached data for car_data\n",
      "req            INFO \tUsing cached data for position_data\n",
      "req            INFO \tUsing cached data for weather_data\n",
      "req            INFO \tUsing cached data for race_control_messages\n",
      "core           INFO \tFinished loading data for 20 drivers: ['44', '77', '33', '23', '4', '11', '18', '3', '55', '26', '7', '20', '8', '99', '10', '63', '6', '31', '16', '5']\n",
      "core           INFO \tLoading data for Styrian Grand Prix - Qualifying [v3.4.0]\n",
      "req            INFO \tUsing cached data for session_info\n",
      "req            INFO \tUsing cached data for driver_info\n",
      "req            INFO \tUsing cached data for session_status_data\n",
      "req            INFO \tUsing cached data for track_status_data\n",
      "req            INFO \tUsing cached data for _extended_timing_data\n",
      "req            INFO \tUsing cached data for timing_app_data\n",
      "core           INFO \tProcessing timing data...\n",
      "/Users/karrtopelka/Developer/lnu/f1-v1/venv/lib/python3.12/site-packages/fastf1/core.py:1580: FutureWarning: Setting an item of incompatible dtype is deprecated and will raise an error in a future version of pandas. Value '<TimedeltaArray>\n",
      "['0 days 01:00:39.414000']\n",
      "Length: 1, dtype: timedelta64[ns]' has dtype incompatible with datetime64[ns], please explicitly cast to a compatible dtype first.\n",
      "  result.loc[mask, 'LapStartTime'] = result.loc[mask, 'PitOutTime']\n",
      "req            INFO \tUsing cached data for car_data\n",
      "req            INFO \tUsing cached data for position_data\n",
      "req            INFO \tUsing cached data for weather_data\n",
      "req            INFO \tUsing cached data for race_control_messages\n",
      "core           INFO \tFinished loading data for 20 drivers: ['44', '33', '55', '77', '31', '4', '23', '10', '3', '5', '16', '63', '18', '26', '20', '7', '11', '6', '99', '8']\n",
      "core           INFO \tLoading data for Hungarian Grand Prix - Race [v3.4.0]\n",
      "req            INFO \tUsing cached data for session_info\n",
      "req            INFO \tUsing cached data for driver_info\n",
      "req            INFO \tUsing cached data for session_status_data\n",
      "req            INFO \tUsing cached data for lap_count\n",
      "req            INFO \tUsing cached data for track_status_data\n",
      "req            INFO \tUsing cached data for _extended_timing_data\n",
      "req            INFO \tUsing cached data for timing_app_data\n",
      "core           INFO \tProcessing timing data...\n"
     ]
    },
    {
     "name": "stdout",
     "output_type": "stream",
     "text": [
      "Loaded data for 2 2020\n"
     ]
    },
    {
     "name": "stderr",
     "output_type": "stream",
     "text": [
      "req            INFO \tUsing cached data for car_data\n",
      "req            INFO \tUsing cached data for position_data\n",
      "req            INFO \tUsing cached data for weather_data\n",
      "req            INFO \tUsing cached data for race_control_messages\n",
      "core           INFO \tFinished loading data for 20 drivers: ['44', '33', '77', '18', '23', '5', '11', '3', '55', '20', '16', '26', '4', '31', '7', '8', '99', '63', '6', '10']\n",
      "core           INFO \tLoading data for Hungarian Grand Prix - Qualifying [v3.4.0]\n",
      "req            INFO \tUsing cached data for session_info\n",
      "req            INFO \tUsing cached data for driver_info\n",
      "req            INFO \tUsing cached data for session_status_data\n",
      "req            INFO \tUsing cached data for track_status_data\n",
      "req            INFO \tUsing cached data for _extended_timing_data\n",
      "req            INFO \tUsing cached data for timing_app_data\n",
      "core           INFO \tProcessing timing data...\n",
      "req            INFO \tUsing cached data for car_data\n",
      "req            INFO \tUsing cached data for position_data\n",
      "req            INFO \tUsing cached data for weather_data\n",
      "req            INFO \tUsing cached data for race_control_messages\n",
      "core           INFO \tFinished loading data for 20 drivers: ['44', '77', '18', '11', '5', '16', '33', '4', '55', '10', '3', '63', '23', '31', '6', '20', '26', '8', '99', '7']\n"
     ]
    },
    {
     "name": "stdout",
     "output_type": "stream",
     "text": [
      "Loaded data for 3 2020\n"
     ]
    }
   ],
   "source": [
    "# years = [2020, 2021, 2023, 2024]\n",
    "# race_names = [1,2,3,4,5,6,7,8,9,10,11,12,13,14,15,16,17,18,19,20,21,22,23]\n",
    "years = [2020]\n",
    "race_names = [1,2,3]\n",
    "# Collect the data\n",
    "results, laps, qualy, car_data, positions = collect_race_data(years, race_names)"
   ]
  },
  {
   "cell_type": "markdown",
   "metadata": {},
   "source": [
    "## Save the Data\n",
    "Optionally, save the collected data to a CSV file for future use:\n",
    "\n"
   ]
  },
  {
   "cell_type": "code",
   "execution_count": 13,
   "metadata": {},
   "outputs": [],
   "source": [
    "results.to_csv('../data/historical_results.csv', index=False)\n",
    "laps.to_csv('../data/historical_laps.csv', index=False)\n",
    "qualy.to_csv('../data/historical_qualy.csv', index=False)\n",
    "car_data.to_csv('../data/historical_car_data.csv', index=False)\n",
    "positions.to_csv('../data/historical_positions.csv', index=False)"
   ]
  },
  {
   "cell_type": "markdown",
   "metadata": {},
   "source": [
    "# Feature Engineering\n",
    "Create features that may help the model predict race outcomes."
   ]
  },
  {
   "cell_type": "markdown",
   "metadata": {},
   "source": [
    "## Example Features\n",
    "- Average Lap Time\n",
    "- Top Speed\n",
    "- Number of Pit Stops\n",
    "- Qualifying Position\n",
    "- Tyre Choices\n",
    "- Weather Conditions"
   ]
  },
  {
   "cell_type": "markdown",
   "metadata": {},
   "source": [
    "## Calculating Average Lap Time"
   ]
  },
  {
   "cell_type": "code",
   "execution_count": 5,
   "metadata": {},
   "outputs": [],
   "source": [
    "# Merge lap times with driver results\n",
    "lap_times = results.merge(laps, on='DriverNumber')\n",
    "\n",
    "# Calculate average lap time per driver\n",
    "avg_lap_times = lap_times.groupby('DriverNumber')['LapTime'].mean().reset_index()\n",
    "avg_lap_times.rename(columns={'LapTime': 'AvgLapTime'}, inplace=True)\n",
    "\n",
    "# Merge with results\n",
    "results_df = results[['DriverNumber', 'FullName', 'TeamName', 'Position', 'Points', 'Status']]\n",
    "results_with_features = pd.merge(results_df, avg_lap_times, on='DriverNumber')\n"
   ]
  },
  {
   "cell_type": "markdown",
   "metadata": {},
   "source": [
    "## Top Speed\n",
    "Objective: Calculate the maximum speed reached by each driver during the race."
   ]
  },
  {
   "cell_type": "code",
   "execution_count": 6,
   "metadata": {},
   "outputs": [],
   "source": [
    "# Calculate top speed per driver\n",
    "# Note: Ensure 'SpeedST' or 'Speed' is available in your laps data\n",
    "if 'SpeedST' in laps.columns:\n",
    "    speed_column = 'SpeedST'\n",
    "elif 'Speed' in laps.columns:\n",
    "    speed_column = 'Speed'\n",
    "else:\n",
    "    print(\"Speed data not available in laps dataframe.\")\n",
    "    speed_column = None\n",
    "\n",
    "if speed_column:\n",
    "    top_speeds = laps.groupby('DriverNumber')[speed_column].max().reset_index()\n",
    "    top_speeds.rename(columns={speed_column: 'TopSpeed'}, inplace=True)\n",
    "\n",
    "    # Merge with results_with_features\n",
    "    results_with_features = pd.merge(results_with_features, top_speeds, on='DriverNumber', how='left')\n",
    "else:\n",
    "    print(\"Top Speed feature cannot be added due to missing speed data.\")\n"
   ]
  },
  {
   "cell_type": "code",
   "execution_count": 7,
   "metadata": {},
   "outputs": [],
   "source": [
    "# Aggregate telemetry features for each driver\n",
    "car_telemetry_features = car_data.groupby('DriverNumber').agg({\n",
    "    'Speed': ['mean', 'max'],  # Calculate both average and max speed\n",
    "    'RPM': 'mean',             # Average RPM\n",
    "    'Throttle': 'mean',        # Average throttle usage\n",
    "    'Brake': 'mean'            # Average brake usage\n",
    "}).reset_index()\n",
    "\n",
    "\n",
    "# Rename the columns properly to avoid conflicts\n",
    "car_telemetry_features.columns = ['DriverNumber', 'AvgSpeed', 'MaxSpeed', 'AvgRPM', 'AvgThrottle', 'AvgBrake']\n",
    "\n",
    "# Merge telemetry features with the main dataset\n",
    "results_with_features = pd.merge(results_with_features, car_telemetry_features, on='DriverNumber', how='left')"
   ]
  },
  {
   "cell_type": "code",
   "execution_count": 8,
   "metadata": {},
   "outputs": [],
   "source": [
    "# Filter out invalid position data\n",
    "valid_positions = positions[(positions['X'] != 0) & (positions['Y'] != 0) & (positions['Status'] != 'OffTrack')]\n",
    "\n",
    "# Aggregate positional features for each driver\n",
    "positional_features = valid_positions.groupby('DriverNumber').agg({\n",
    "    'X': 'mean',  # Average X position on track\n",
    "    'Y': 'mean',  # Average Y position on track\n",
    "    'Z': 'mean',  # Average Z position (altitude, if relevant)\n",
    "    'Time': 'count'  # Number of valid position samples\n",
    "}).reset_index()\n",
    "\n",
    "# Rename the columns for clarity\n",
    "positional_features.rename(columns={\n",
    "    'X': 'AvgXPosition',\n",
    "    'Y': 'AvgYPosition',\n",
    "    'Z': 'AvgZPosition',  # Optional, if Z is relevant\n",
    "    'Time': 'NumPositionSamples'  # Total number of valid position data points\n",
    "}, inplace=True)\n",
    "\n",
    "# Merge positional features with the main dataset\n",
    "results_with_features = pd.merge(results_with_features, positional_features, on='DriverNumber', how='left')"
   ]
  },
  {
   "cell_type": "markdown",
   "metadata": {},
   "source": [
    "Explanation:\n",
    "\n",
    "- SpeedST: Speed trap data, which records the highest speed at a specific point.\n",
    "- Speed: General speed data from telemetry.\n",
    "- We check which speed data is available and use it to calculate the top speed.\n",
    "- If speed data is not available, we skip this feature."
   ]
  },
  {
   "cell_type": "markdown",
   "metadata": {},
   "source": [
    "## Number of Pit Stops\n",
    "Objective: Count the number of pit stops each driver made during the race."
   ]
  },
  {
   "cell_type": "code",
   "execution_count": 9,
   "metadata": {},
   "outputs": [
    {
     "name": "stderr",
     "output_type": "stream",
     "text": [
      "/var/folders/3r/y8q1_zkx3l333fyh9s34n0180000gn/T/ipykernel_72639/2102567290.py:9: FutureWarning: A value is trying to be set on a copy of a DataFrame or Series through chained assignment using an inplace method.\n",
      "The behavior will change in pandas 3.0. This inplace method will never work because the intermediate object on which we are setting values always behaves as a copy.\n",
      "\n",
      "For example, when doing 'df[col].method(value, inplace=True)', try using 'df.method({col: value}, inplace=True)' or df[col] = df[col].method(value) instead, to perform the operation inplace on the original object.\n",
      "\n",
      "\n",
      "  results_with_features['NumPitStops'].fillna(0, inplace=True)\n"
     ]
    }
   ],
   "source": [
    "# Identify pit laps where 'PitInTime' is not null\n",
    "pit_laps = laps[laps['PitInTime'].notnull()]\n",
    "# Count pit stops per driver\n",
    "pit_stop_counts = pit_laps.groupby('DriverNumber').size().reset_index(name='NumPitStops')\n",
    "\n",
    "# Merge with results_with_features\n",
    "results_with_features = pd.merge(results_with_features, pit_stop_counts, on='DriverNumber', how='left')\n",
    "# Fill NaN values with 0 for drivers without pit stops\n",
    "results_with_features['NumPitStops'].fillna(0, inplace=True)\n"
   ]
  },
  {
   "cell_type": "markdown",
   "metadata": {},
   "source": [
    "Explanation:\n",
    "\n",
    "- PitInTime indicates when a driver enters the pit lane.\n",
    "- We count the number of times each driver has a non-null PitInTime.\n",
    "- Merge the pit stop counts into our features dataframe."
   ]
  },
  {
   "cell_type": "markdown",
   "metadata": {},
   "source": [
    "## Qualifying Position\n",
    "Objective: Include each driver's qualifying position as a feature."
   ]
  },
  {
   "cell_type": "code",
   "execution_count": 10,
   "metadata": {},
   "outputs": [],
   "source": [
    "# Merge qualifying position into results_with_features\n",
    "results_with_features = pd.merge(results_with_features, qualy, on='DriverNumber', how='left')"
   ]
  },
  {
   "cell_type": "markdown",
   "metadata": {},
   "source": [
    "## Tyre Choices\n",
    "Objective: Include the most frequently used tyre compound by each driver."
   ]
  },
  {
   "cell_type": "code",
   "execution_count": 11,
   "metadata": {},
   "outputs": [],
   "source": [
    "# Extract tyre compound information\n",
    "tyre_compounds = laps[['DriverNumber', 'Compound']]\n",
    "\n",
    "# Determine the most used compound for each driver\n",
    "most_used_compound = tyre_compounds.groupby('DriverNumber')['Compound'].agg(lambda x: x.value_counts().index[0]).reset_index()\n",
    "most_used_compound.rename(columns={'Compound': 'MostUsedCompound'}, inplace=True)\n",
    "\n",
    "# One-hot encode the tyre compounds\n",
    "tyre_dummies = pd.get_dummies(most_used_compound['MostUsedCompound'], prefix='Tyre')\n",
    "\n",
    "# Merge with driver data\n",
    "most_used_compound = pd.concat([most_used_compound, tyre_dummies], axis=1)\n",
    "\n",
    "# Merge with results_with_features\n",
    "results_with_features = pd.merge(results_with_features, most_used_compound.drop('MostUsedCompound', axis=1), on='DriverNumber', how='left')"
   ]
  },
  {
   "cell_type": "markdown",
   "metadata": {},
   "source": [
    "Explanation:\n",
    "\n",
    "- We identify the most frequently used tyre compound for each driver.\n",
    "- Use one-hot encoding to convert categorical tyre compounds into numerical features."
   ]
  },
  {
   "cell_type": "markdown",
   "metadata": {},
   "source": [
    "## Weather Conditions\n",
    "Objective: Include average weather conditions during the race."
   ]
  },
  {
   "cell_type": "code",
   "execution_count": 12,
   "metadata": {},
   "outputs": [],
   "source": [
    "# Extract weather data\n",
    "weather_data = laps[['DriverNumber', 'AirTemp', 'Humidity', 'Pressure', 'TrackTemp', 'WindDirection', 'WindSpeed']]\n",
    "\n",
    "# Average weather conditions per driver\n",
    "avg_weather = weather_data.groupby('DriverNumber').mean().reset_index()\n",
    "\n",
    "# Merge with results_with_features\n",
    "results_with_features = pd.merge(results_with_features, avg_weather, on='DriverNumber', how='left')"
   ]
  },
  {
   "cell_type": "markdown",
   "metadata": {},
   "source": [
    "Note: Since weather conditions are generally the same for all drivers at the same time, including them might not add significant predictive power."
   ]
  },
  {
   "cell_type": "code",
   "execution_count": 14,
   "metadata": {},
   "outputs": [],
   "source": [
    "# Calculate average pit stop duration per driver\n",
    "pit_stop_durations = pit_laps.groupby('DriverNumber')['PitOutTime'].mean().reset_index()\n",
    "pit_stop_durations.rename(columns={'PitOutTime': 'AvgPitStopDuration'}, inplace=True)\n",
    "\n",
    "# Merge with results_with_features\n",
    "results_with_features = pd.merge(results_with_features, pit_stop_durations, on='DriverNumber', how='left')"
   ]
  },
  {
   "cell_type": "code",
   "execution_count": 25,
   "metadata": {},
   "outputs": [],
   "source": [
    "# We have to Convert timedelta Features to Seconds\n",
    "import fastf1.utils as f1_utils\n",
    "\n",
    "# Convert timedelta features to seconds\n",
    "time_features = ['AvgLapTime', 'AvgPitStopDuration']\n",
    "for feature in time_features:\n",
    "    results_with_features[feature] = pd.to_timedelta(results_with_features[feature]).dt.total_seconds()"
   ]
  },
  {
   "cell_type": "markdown",
   "metadata": {},
   "source": [
    "# Building a Machine Learning Model\n",
    "We'll start with a simple model to predict the finishing position based on the features.\n",
    "\n"
   ]
  },
  {
   "cell_type": "markdown",
   "metadata": {},
   "source": [
    "## Prepare the Data"
   ]
  },
  {
   "cell_type": "code",
   "execution_count": 44,
   "metadata": {},
   "outputs": [],
   "source": [
    "# Select features and target variable\n",
    "features = ['AvgLapTime', 'TopSpeed', 'NumPitStops', 'QualiPosition', 'AvgThrottle', 'AvgBrake', 'AvgSpeed', 'MaxSpeed', 'AvgRPM', 'AvgXPosition', 'AvgYPosition', 'AvgZPosition', 'NumPositionSamples'] + list(tyre_dummies.columns) + ['AirTemp', 'Humidity', 'Pressure', 'TrackTemp', 'WindDirection', 'WindSpeed', 'AvgPitStopDuration']\n",
    "target = 'Position'\n",
    "\n",
    "# Handle missing values if any\n",
    "results_with_features.dropna(subset=features + [target], inplace=True)\n",
    "\n",
    "\n",
    "# Define X and y\n",
    "X = results_with_features[features]\n",
    "y = results_with_features[target]\n"
   ]
  },
  {
   "cell_type": "markdown",
   "metadata": {},
   "source": [
    "## Split the Data"
   ]
  },
  {
   "cell_type": "code",
   "execution_count": 45,
   "metadata": {},
   "outputs": [],
   "source": [
    "from sklearn.model_selection import train_test_split\n",
    "\n",
    "# Split into training and testing datasets\n",
    "X_train, X_test, y_train, y_test = train_test_split(X, y, test_size=0.2, random_state=42)"
   ]
  },
  {
   "cell_type": "markdown",
   "metadata": {},
   "source": [
    "Scale the Features (Optional):"
   ]
  },
  {
   "cell_type": "code",
   "execution_count": 46,
   "metadata": {},
   "outputs": [],
   "source": [
    "from sklearn.preprocessing import StandardScaler\n",
    "\n",
    "# List continuous features to scale\n",
    "continuous_features = ['AvgLapTime', 'TopSpeed', 'NumPitStops', 'QualiPosition',\n",
    "                       'AvgThrottle', 'AvgBrake', 'AvgSpeed', 'MaxSpeed',\n",
    "                       'AvgRPM', 'AvgXPosition', 'AvgYPosition',\n",
    "                       'AirTemp', 'Humidity', 'Pressure', 'TrackTemp',\n",
    "                       'WindDirection', 'WindSpeed']\n",
    "\n",
    "# Initialize the StandardScaler\n",
    "scaler = StandardScaler()\n",
    "\n",
    "# Scale only the continuous features\n",
    "X_train_continuous = scaler.fit_transform(X_train[continuous_features])\n",
    "X_test_continuous = scaler.transform(X_test[continuous_features])\n",
    "\n",
    "# Convert scaled features back to DataFrame for easy concatenation with categorical features\n",
    "X_train_continuous_df = pd.DataFrame(X_train_continuous, columns=continuous_features, index=X_train.index)\n",
    "X_test_continuous_df = pd.DataFrame(X_test_continuous, columns=continuous_features, index=X_test.index)"
   ]
  },
  {
   "cell_type": "code",
   "execution_count": 47,
   "metadata": {},
   "outputs": [],
   "source": [
    "# Combine the scaled continuous features with the categorical (unscaled) features\n",
    "X_train_final = pd.concat([X_train_continuous_df, X_train.drop(columns=continuous_features)], axis=1)\n",
    "X_test_final = pd.concat([X_test_continuous_df, X_test.drop(columns=continuous_features)], axis=1)"
   ]
  },
  {
   "cell_type": "markdown",
   "metadata": {},
   "source": [
    "## Train the Model"
   ]
  },
  {
   "cell_type": "code",
   "execution_count": 48,
   "metadata": {},
   "outputs": [
    {
     "data": {
      "text/html": [
       "<style>#sk-container-id-2 {\n",
       "  /* Definition of color scheme common for light and dark mode */\n",
       "  --sklearn-color-text: black;\n",
       "  --sklearn-color-line: gray;\n",
       "  /* Definition of color scheme for unfitted estimators */\n",
       "  --sklearn-color-unfitted-level-0: #fff5e6;\n",
       "  --sklearn-color-unfitted-level-1: #f6e4d2;\n",
       "  --sklearn-color-unfitted-level-2: #ffe0b3;\n",
       "  --sklearn-color-unfitted-level-3: chocolate;\n",
       "  /* Definition of color scheme for fitted estimators */\n",
       "  --sklearn-color-fitted-level-0: #f0f8ff;\n",
       "  --sklearn-color-fitted-level-1: #d4ebff;\n",
       "  --sklearn-color-fitted-level-2: #b3dbfd;\n",
       "  --sklearn-color-fitted-level-3: cornflowerblue;\n",
       "\n",
       "  /* Specific color for light theme */\n",
       "  --sklearn-color-text-on-default-background: var(--sg-text-color, var(--theme-code-foreground, var(--jp-content-font-color1, black)));\n",
       "  --sklearn-color-background: var(--sg-background-color, var(--theme-background, var(--jp-layout-color0, white)));\n",
       "  --sklearn-color-border-box: var(--sg-text-color, var(--theme-code-foreground, var(--jp-content-font-color1, black)));\n",
       "  --sklearn-color-icon: #696969;\n",
       "\n",
       "  @media (prefers-color-scheme: dark) {\n",
       "    /* Redefinition of color scheme for dark theme */\n",
       "    --sklearn-color-text-on-default-background: var(--sg-text-color, var(--theme-code-foreground, var(--jp-content-font-color1, white)));\n",
       "    --sklearn-color-background: var(--sg-background-color, var(--theme-background, var(--jp-layout-color0, #111)));\n",
       "    --sklearn-color-border-box: var(--sg-text-color, var(--theme-code-foreground, var(--jp-content-font-color1, white)));\n",
       "    --sklearn-color-icon: #878787;\n",
       "  }\n",
       "}\n",
       "\n",
       "#sk-container-id-2 {\n",
       "  color: var(--sklearn-color-text);\n",
       "}\n",
       "\n",
       "#sk-container-id-2 pre {\n",
       "  padding: 0;\n",
       "}\n",
       "\n",
       "#sk-container-id-2 input.sk-hidden--visually {\n",
       "  border: 0;\n",
       "  clip: rect(1px 1px 1px 1px);\n",
       "  clip: rect(1px, 1px, 1px, 1px);\n",
       "  height: 1px;\n",
       "  margin: -1px;\n",
       "  overflow: hidden;\n",
       "  padding: 0;\n",
       "  position: absolute;\n",
       "  width: 1px;\n",
       "}\n",
       "\n",
       "#sk-container-id-2 div.sk-dashed-wrapped {\n",
       "  border: 1px dashed var(--sklearn-color-line);\n",
       "  margin: 0 0.4em 0.5em 0.4em;\n",
       "  box-sizing: border-box;\n",
       "  padding-bottom: 0.4em;\n",
       "  background-color: var(--sklearn-color-background);\n",
       "}\n",
       "\n",
       "#sk-container-id-2 div.sk-container {\n",
       "  /* jupyter's `normalize.less` sets `[hidden] { display: none; }`\n",
       "     but bootstrap.min.css set `[hidden] { display: none !important; }`\n",
       "     so we also need the `!important` here to be able to override the\n",
       "     default hidden behavior on the sphinx rendered scikit-learn.org.\n",
       "     See: https://github.com/scikit-learn/scikit-learn/issues/21755 */\n",
       "  display: inline-block !important;\n",
       "  position: relative;\n",
       "}\n",
       "\n",
       "#sk-container-id-2 div.sk-text-repr-fallback {\n",
       "  display: none;\n",
       "}\n",
       "\n",
       "div.sk-parallel-item,\n",
       "div.sk-serial,\n",
       "div.sk-item {\n",
       "  /* draw centered vertical line to link estimators */\n",
       "  background-image: linear-gradient(var(--sklearn-color-text-on-default-background), var(--sklearn-color-text-on-default-background));\n",
       "  background-size: 2px 100%;\n",
       "  background-repeat: no-repeat;\n",
       "  background-position: center center;\n",
       "}\n",
       "\n",
       "/* Parallel-specific style estimator block */\n",
       "\n",
       "#sk-container-id-2 div.sk-parallel-item::after {\n",
       "  content: \"\";\n",
       "  width: 100%;\n",
       "  border-bottom: 2px solid var(--sklearn-color-text-on-default-background);\n",
       "  flex-grow: 1;\n",
       "}\n",
       "\n",
       "#sk-container-id-2 div.sk-parallel {\n",
       "  display: flex;\n",
       "  align-items: stretch;\n",
       "  justify-content: center;\n",
       "  background-color: var(--sklearn-color-background);\n",
       "  position: relative;\n",
       "}\n",
       "\n",
       "#sk-container-id-2 div.sk-parallel-item {\n",
       "  display: flex;\n",
       "  flex-direction: column;\n",
       "}\n",
       "\n",
       "#sk-container-id-2 div.sk-parallel-item:first-child::after {\n",
       "  align-self: flex-end;\n",
       "  width: 50%;\n",
       "}\n",
       "\n",
       "#sk-container-id-2 div.sk-parallel-item:last-child::after {\n",
       "  align-self: flex-start;\n",
       "  width: 50%;\n",
       "}\n",
       "\n",
       "#sk-container-id-2 div.sk-parallel-item:only-child::after {\n",
       "  width: 0;\n",
       "}\n",
       "\n",
       "/* Serial-specific style estimator block */\n",
       "\n",
       "#sk-container-id-2 div.sk-serial {\n",
       "  display: flex;\n",
       "  flex-direction: column;\n",
       "  align-items: center;\n",
       "  background-color: var(--sklearn-color-background);\n",
       "  padding-right: 1em;\n",
       "  padding-left: 1em;\n",
       "}\n",
       "\n",
       "\n",
       "/* Toggleable style: style used for estimator/Pipeline/ColumnTransformer box that is\n",
       "clickable and can be expanded/collapsed.\n",
       "- Pipeline and ColumnTransformer use this feature and define the default style\n",
       "- Estimators will overwrite some part of the style using the `sk-estimator` class\n",
       "*/\n",
       "\n",
       "/* Pipeline and ColumnTransformer style (default) */\n",
       "\n",
       "#sk-container-id-2 div.sk-toggleable {\n",
       "  /* Default theme specific background. It is overwritten whether we have a\n",
       "  specific estimator or a Pipeline/ColumnTransformer */\n",
       "  background-color: var(--sklearn-color-background);\n",
       "}\n",
       "\n",
       "/* Toggleable label */\n",
       "#sk-container-id-2 label.sk-toggleable__label {\n",
       "  cursor: pointer;\n",
       "  display: block;\n",
       "  width: 100%;\n",
       "  margin-bottom: 0;\n",
       "  padding: 0.5em;\n",
       "  box-sizing: border-box;\n",
       "  text-align: center;\n",
       "}\n",
       "\n",
       "#sk-container-id-2 label.sk-toggleable__label-arrow:before {\n",
       "  /* Arrow on the left of the label */\n",
       "  content: \"▸\";\n",
       "  float: left;\n",
       "  margin-right: 0.25em;\n",
       "  color: var(--sklearn-color-icon);\n",
       "}\n",
       "\n",
       "#sk-container-id-2 label.sk-toggleable__label-arrow:hover:before {\n",
       "  color: var(--sklearn-color-text);\n",
       "}\n",
       "\n",
       "/* Toggleable content - dropdown */\n",
       "\n",
       "#sk-container-id-2 div.sk-toggleable__content {\n",
       "  max-height: 0;\n",
       "  max-width: 0;\n",
       "  overflow: hidden;\n",
       "  text-align: left;\n",
       "  /* unfitted */\n",
       "  background-color: var(--sklearn-color-unfitted-level-0);\n",
       "}\n",
       "\n",
       "#sk-container-id-2 div.sk-toggleable__content.fitted {\n",
       "  /* fitted */\n",
       "  background-color: var(--sklearn-color-fitted-level-0);\n",
       "}\n",
       "\n",
       "#sk-container-id-2 div.sk-toggleable__content pre {\n",
       "  margin: 0.2em;\n",
       "  border-radius: 0.25em;\n",
       "  color: var(--sklearn-color-text);\n",
       "  /* unfitted */\n",
       "  background-color: var(--sklearn-color-unfitted-level-0);\n",
       "}\n",
       "\n",
       "#sk-container-id-2 div.sk-toggleable__content.fitted pre {\n",
       "  /* unfitted */\n",
       "  background-color: var(--sklearn-color-fitted-level-0);\n",
       "}\n",
       "\n",
       "#sk-container-id-2 input.sk-toggleable__control:checked~div.sk-toggleable__content {\n",
       "  /* Expand drop-down */\n",
       "  max-height: 200px;\n",
       "  max-width: 100%;\n",
       "  overflow: auto;\n",
       "}\n",
       "\n",
       "#sk-container-id-2 input.sk-toggleable__control:checked~label.sk-toggleable__label-arrow:before {\n",
       "  content: \"▾\";\n",
       "}\n",
       "\n",
       "/* Pipeline/ColumnTransformer-specific style */\n",
       "\n",
       "#sk-container-id-2 div.sk-label input.sk-toggleable__control:checked~label.sk-toggleable__label {\n",
       "  color: var(--sklearn-color-text);\n",
       "  background-color: var(--sklearn-color-unfitted-level-2);\n",
       "}\n",
       "\n",
       "#sk-container-id-2 div.sk-label.fitted input.sk-toggleable__control:checked~label.sk-toggleable__label {\n",
       "  background-color: var(--sklearn-color-fitted-level-2);\n",
       "}\n",
       "\n",
       "/* Estimator-specific style */\n",
       "\n",
       "/* Colorize estimator box */\n",
       "#sk-container-id-2 div.sk-estimator input.sk-toggleable__control:checked~label.sk-toggleable__label {\n",
       "  /* unfitted */\n",
       "  background-color: var(--sklearn-color-unfitted-level-2);\n",
       "}\n",
       "\n",
       "#sk-container-id-2 div.sk-estimator.fitted input.sk-toggleable__control:checked~label.sk-toggleable__label {\n",
       "  /* fitted */\n",
       "  background-color: var(--sklearn-color-fitted-level-2);\n",
       "}\n",
       "\n",
       "#sk-container-id-2 div.sk-label label.sk-toggleable__label,\n",
       "#sk-container-id-2 div.sk-label label {\n",
       "  /* The background is the default theme color */\n",
       "  color: var(--sklearn-color-text-on-default-background);\n",
       "}\n",
       "\n",
       "/* On hover, darken the color of the background */\n",
       "#sk-container-id-2 div.sk-label:hover label.sk-toggleable__label {\n",
       "  color: var(--sklearn-color-text);\n",
       "  background-color: var(--sklearn-color-unfitted-level-2);\n",
       "}\n",
       "\n",
       "/* Label box, darken color on hover, fitted */\n",
       "#sk-container-id-2 div.sk-label.fitted:hover label.sk-toggleable__label.fitted {\n",
       "  color: var(--sklearn-color-text);\n",
       "  background-color: var(--sklearn-color-fitted-level-2);\n",
       "}\n",
       "\n",
       "/* Estimator label */\n",
       "\n",
       "#sk-container-id-2 div.sk-label label {\n",
       "  font-family: monospace;\n",
       "  font-weight: bold;\n",
       "  display: inline-block;\n",
       "  line-height: 1.2em;\n",
       "}\n",
       "\n",
       "#sk-container-id-2 div.sk-label-container {\n",
       "  text-align: center;\n",
       "}\n",
       "\n",
       "/* Estimator-specific */\n",
       "#sk-container-id-2 div.sk-estimator {\n",
       "  font-family: monospace;\n",
       "  border: 1px dotted var(--sklearn-color-border-box);\n",
       "  border-radius: 0.25em;\n",
       "  box-sizing: border-box;\n",
       "  margin-bottom: 0.5em;\n",
       "  /* unfitted */\n",
       "  background-color: var(--sklearn-color-unfitted-level-0);\n",
       "}\n",
       "\n",
       "#sk-container-id-2 div.sk-estimator.fitted {\n",
       "  /* fitted */\n",
       "  background-color: var(--sklearn-color-fitted-level-0);\n",
       "}\n",
       "\n",
       "/* on hover */\n",
       "#sk-container-id-2 div.sk-estimator:hover {\n",
       "  /* unfitted */\n",
       "  background-color: var(--sklearn-color-unfitted-level-2);\n",
       "}\n",
       "\n",
       "#sk-container-id-2 div.sk-estimator.fitted:hover {\n",
       "  /* fitted */\n",
       "  background-color: var(--sklearn-color-fitted-level-2);\n",
       "}\n",
       "\n",
       "/* Specification for estimator info (e.g. \"i\" and \"?\") */\n",
       "\n",
       "/* Common style for \"i\" and \"?\" */\n",
       "\n",
       ".sk-estimator-doc-link,\n",
       "a:link.sk-estimator-doc-link,\n",
       "a:visited.sk-estimator-doc-link {\n",
       "  float: right;\n",
       "  font-size: smaller;\n",
       "  line-height: 1em;\n",
       "  font-family: monospace;\n",
       "  background-color: var(--sklearn-color-background);\n",
       "  border-radius: 1em;\n",
       "  height: 1em;\n",
       "  width: 1em;\n",
       "  text-decoration: none !important;\n",
       "  margin-left: 1ex;\n",
       "  /* unfitted */\n",
       "  border: var(--sklearn-color-unfitted-level-1) 1pt solid;\n",
       "  color: var(--sklearn-color-unfitted-level-1);\n",
       "}\n",
       "\n",
       ".sk-estimator-doc-link.fitted,\n",
       "a:link.sk-estimator-doc-link.fitted,\n",
       "a:visited.sk-estimator-doc-link.fitted {\n",
       "  /* fitted */\n",
       "  border: var(--sklearn-color-fitted-level-1) 1pt solid;\n",
       "  color: var(--sklearn-color-fitted-level-1);\n",
       "}\n",
       "\n",
       "/* On hover */\n",
       "div.sk-estimator:hover .sk-estimator-doc-link:hover,\n",
       ".sk-estimator-doc-link:hover,\n",
       "div.sk-label-container:hover .sk-estimator-doc-link:hover,\n",
       ".sk-estimator-doc-link:hover {\n",
       "  /* unfitted */\n",
       "  background-color: var(--sklearn-color-unfitted-level-3);\n",
       "  color: var(--sklearn-color-background);\n",
       "  text-decoration: none;\n",
       "}\n",
       "\n",
       "div.sk-estimator.fitted:hover .sk-estimator-doc-link.fitted:hover,\n",
       ".sk-estimator-doc-link.fitted:hover,\n",
       "div.sk-label-container:hover .sk-estimator-doc-link.fitted:hover,\n",
       ".sk-estimator-doc-link.fitted:hover {\n",
       "  /* fitted */\n",
       "  background-color: var(--sklearn-color-fitted-level-3);\n",
       "  color: var(--sklearn-color-background);\n",
       "  text-decoration: none;\n",
       "}\n",
       "\n",
       "/* Span, style for the box shown on hovering the info icon */\n",
       ".sk-estimator-doc-link span {\n",
       "  display: none;\n",
       "  z-index: 9999;\n",
       "  position: relative;\n",
       "  font-weight: normal;\n",
       "  right: .2ex;\n",
       "  padding: .5ex;\n",
       "  margin: .5ex;\n",
       "  width: min-content;\n",
       "  min-width: 20ex;\n",
       "  max-width: 50ex;\n",
       "  color: var(--sklearn-color-text);\n",
       "  box-shadow: 2pt 2pt 4pt #999;\n",
       "  /* unfitted */\n",
       "  background: var(--sklearn-color-unfitted-level-0);\n",
       "  border: .5pt solid var(--sklearn-color-unfitted-level-3);\n",
       "}\n",
       "\n",
       ".sk-estimator-doc-link.fitted span {\n",
       "  /* fitted */\n",
       "  background: var(--sklearn-color-fitted-level-0);\n",
       "  border: var(--sklearn-color-fitted-level-3);\n",
       "}\n",
       "\n",
       ".sk-estimator-doc-link:hover span {\n",
       "  display: block;\n",
       "}\n",
       "\n",
       "/* \"?\"-specific style due to the `<a>` HTML tag */\n",
       "\n",
       "#sk-container-id-2 a.estimator_doc_link {\n",
       "  float: right;\n",
       "  font-size: 1rem;\n",
       "  line-height: 1em;\n",
       "  font-family: monospace;\n",
       "  background-color: var(--sklearn-color-background);\n",
       "  border-radius: 1rem;\n",
       "  height: 1rem;\n",
       "  width: 1rem;\n",
       "  text-decoration: none;\n",
       "  /* unfitted */\n",
       "  color: var(--sklearn-color-unfitted-level-1);\n",
       "  border: var(--sklearn-color-unfitted-level-1) 1pt solid;\n",
       "}\n",
       "\n",
       "#sk-container-id-2 a.estimator_doc_link.fitted {\n",
       "  /* fitted */\n",
       "  border: var(--sklearn-color-fitted-level-1) 1pt solid;\n",
       "  color: var(--sklearn-color-fitted-level-1);\n",
       "}\n",
       "\n",
       "/* On hover */\n",
       "#sk-container-id-2 a.estimator_doc_link:hover {\n",
       "  /* unfitted */\n",
       "  background-color: var(--sklearn-color-unfitted-level-3);\n",
       "  color: var(--sklearn-color-background);\n",
       "  text-decoration: none;\n",
       "}\n",
       "\n",
       "#sk-container-id-2 a.estimator_doc_link.fitted:hover {\n",
       "  /* fitted */\n",
       "  background-color: var(--sklearn-color-fitted-level-3);\n",
       "}\n",
       "</style><div id=\"sk-container-id-2\" class=\"sk-top-container\"><div class=\"sk-text-repr-fallback\"><pre>RandomForestRegressor(random_state=42)</pre><b>In a Jupyter environment, please rerun this cell to show the HTML representation or trust the notebook. <br />On GitHub, the HTML representation is unable to render, please try loading this page with nbviewer.org.</b></div><div class=\"sk-container\" hidden><div class=\"sk-item\"><div class=\"sk-estimator fitted sk-toggleable\"><input class=\"sk-toggleable__control sk-hidden--visually\" id=\"sk-estimator-id-2\" type=\"checkbox\" checked><label for=\"sk-estimator-id-2\" class=\"sk-toggleable__label fitted sk-toggleable__label-arrow fitted\">&nbsp;&nbsp;RandomForestRegressor<a class=\"sk-estimator-doc-link fitted\" rel=\"noreferrer\" target=\"_blank\" href=\"https://scikit-learn.org/1.5/modules/generated/sklearn.ensemble.RandomForestRegressor.html\">?<span>Documentation for RandomForestRegressor</span></a><span class=\"sk-estimator-doc-link fitted\">i<span>Fitted</span></span></label><div class=\"sk-toggleable__content fitted\"><pre>RandomForestRegressor(random_state=42)</pre></div> </div></div></div></div>"
      ],
      "text/plain": [
       "RandomForestRegressor(random_state=42)"
      ]
     },
     "execution_count": 48,
     "metadata": {},
     "output_type": "execute_result"
    }
   ],
   "source": [
    "from sklearn.ensemble import RandomForestRegressor\n",
    "\n",
    "# Initialize the model\n",
    "model = RandomForestRegressor(n_estimators=100, random_state=42)\n",
    "\n",
    "# Train the model\n",
    "model.fit(X_train, y_train)"
   ]
  },
  {
   "cell_type": "markdown",
   "metadata": {},
   "source": [
    "## Evaluate the Model"
   ]
  },
  {
   "cell_type": "code",
   "execution_count": 49,
   "metadata": {},
   "outputs": [
    {
     "name": "stdout",
     "output_type": "stream",
     "text": [
      "Mean Absolute Error: 4.717333333333334\n"
     ]
    }
   ],
   "source": [
    "from sklearn.metrics import mean_absolute_error\n",
    "\n",
    "# Make predictions\n",
    "y_pred = model.predict(X_test)\n",
    "\n",
    "# Evaluate the model\n",
    "mae = mean_absolute_error(y_test, y_pred)\n",
    "print(f\"Mean Absolute Error: {mae}\")"
   ]
  },
  {
   "cell_type": "markdown",
   "metadata": {},
   "source": [
    "## Saving the Trained Model\n",
    "You can save the trained model using joblib:"
   ]
  },
  {
   "cell_type": "code",
   "execution_count": 50,
   "metadata": {},
   "outputs": [
    {
     "data": {
      "text/plain": [
       "['../models/scaler_2.pkl']"
      ]
     },
     "execution_count": 50,
     "metadata": {},
     "output_type": "execute_result"
    }
   ],
   "source": [
    "import joblib\n",
    "\n",
    "# Save the model\n",
    "joblib.dump(model, '../models/f1_model_2.pkl')\n",
    "\n",
    "# Save the scaler if you used one\n",
    "joblib.dump(scaler, '../models/scaler_2.pkl')\n"
   ]
  },
  {
   "cell_type": "markdown",
   "metadata": {},
   "source": [
    "## Feature Importance:\n",
    "\n",
    "Analyze which features are most important in your model."
   ]
  },
  {
   "cell_type": "code",
   "execution_count": 51,
   "metadata": {},
   "outputs": [
    {
     "data": {
      "image/png": "[encoded data removed]",
      "text/plain": [
       "<Figure size 1500x1000 with 1 Axes>"
      ]
     },
     "metadata": {},
     "output_type": "display_data"
    }
   ],
   "source": [
    "# Get feature importances\n",
    "importances = model.feature_importances_\n",
    "feature_names = features\n",
    "\n",
    "# Create a DataFrame\n",
    "feature_importance_df = pd.DataFrame({'Feature': feature_names, 'Importance': importances})\n",
    "\n",
    "# Sort by importance\n",
    "feature_importance_df.sort_values(by='Importance', ascending=False, inplace=True)\n",
    "\n",
    "# Plot\n",
    "plt.figure(figsize=(15, 10))\n",
    "sns.barplot(data=feature_importance_df, x='Importance', y='Feature')\n",
    "plt.title('Feature Importances')\n",
    "plt.show()\n"
   ]
  },
  {
   "cell_type": "code",
   "execution_count": 52,
   "metadata": {},
   "outputs": [
    {
     "data": {
      "text/html": [
       "<div>\n",
       "<style scoped>\n",
       "    .dataframe tbody tr th:only-of-type {\n",
       "        vertical-align: middle;\n",
       "    }\n",
       "\n",
       "    .dataframe tbody tr th {\n",
       "        vertical-align: top;\n",
       "    }\n",
       "\n",
       "    .dataframe thead th {\n",
       "        text-align: right;\n",
       "    }\n",
       "</style>\n",
       "<table border=\"1\" class=\"dataframe\">\n",
       "  <thead>\n",
       "    <tr style=\"text-align: right;\">\n",
       "      <th></th>\n",
       "      <th>Feature</th>\n",
       "      <th>Importance</th>\n",
       "    </tr>\n",
       "  </thead>\n",
       "  <tbody>\n",
       "    <tr>\n",
       "      <th>3</th>\n",
       "      <td>QualiPosition</td>\n",
       "      <td>0.649875</td>\n",
       "    </tr>\n",
       "    <tr>\n",
       "      <th>17</th>\n",
       "      <td>Humidity</td>\n",
       "      <td>0.050910</td>\n",
       "    </tr>\n",
       "    <tr>\n",
       "      <th>16</th>\n",
       "      <td>AirTemp</td>\n",
       "      <td>0.038849</td>\n",
       "    </tr>\n",
       "    <tr>\n",
       "      <th>19</th>\n",
       "      <td>TrackTemp</td>\n",
       "      <td>0.036046</td>\n",
       "    </tr>\n",
       "    <tr>\n",
       "      <th>10</th>\n",
       "      <td>AvgYPosition</td>\n",
       "      <td>0.033493</td>\n",
       "    </tr>\n",
       "    <tr>\n",
       "      <th>2</th>\n",
       "      <td>NumPitStops</td>\n",
       "      <td>0.031125</td>\n",
       "    </tr>\n",
       "    <tr>\n",
       "      <th>5</th>\n",
       "      <td>AvgBrake</td>\n",
       "      <td>0.030899</td>\n",
       "    </tr>\n",
       "    <tr>\n",
       "      <th>8</th>\n",
       "      <td>AvgRPM</td>\n",
       "      <td>0.021292</td>\n",
       "    </tr>\n",
       "    <tr>\n",
       "      <th>7</th>\n",
       "      <td>MaxSpeed</td>\n",
       "      <td>0.014692</td>\n",
       "    </tr>\n",
       "    <tr>\n",
       "      <th>4</th>\n",
       "      <td>AvgThrottle</td>\n",
       "      <td>0.014564</td>\n",
       "    </tr>\n",
       "    <tr>\n",
       "      <th>12</th>\n",
       "      <td>NumPositionSamples</td>\n",
       "      <td>0.014056</td>\n",
       "    </tr>\n",
       "    <tr>\n",
       "      <th>20</th>\n",
       "      <td>WindDirection</td>\n",
       "      <td>0.010435</td>\n",
       "    </tr>\n",
       "    <tr>\n",
       "      <th>6</th>\n",
       "      <td>AvgSpeed</td>\n",
       "      <td>0.009881</td>\n",
       "    </tr>\n",
       "    <tr>\n",
       "      <th>1</th>\n",
       "      <td>TopSpeed</td>\n",
       "      <td>0.009604</td>\n",
       "    </tr>\n",
       "    <tr>\n",
       "      <th>22</th>\n",
       "      <td>AvgPitStopDuration</td>\n",
       "      <td>0.009170</td>\n",
       "    </tr>\n",
       "    <tr>\n",
       "      <th>9</th>\n",
       "      <td>AvgXPosition</td>\n",
       "      <td>0.008266</td>\n",
       "    </tr>\n",
       "    <tr>\n",
       "      <th>0</th>\n",
       "      <td>AvgLapTime</td>\n",
       "      <td>0.006878</td>\n",
       "    </tr>\n",
       "    <tr>\n",
       "      <th>11</th>\n",
       "      <td>AvgZPosition</td>\n",
       "      <td>0.003406</td>\n",
       "    </tr>\n",
       "    <tr>\n",
       "      <th>21</th>\n",
       "      <td>WindSpeed</td>\n",
       "      <td>0.003347</td>\n",
       "    </tr>\n",
       "    <tr>\n",
       "      <th>18</th>\n",
       "      <td>Pressure</td>\n",
       "      <td>0.003212</td>\n",
       "    </tr>\n",
       "    <tr>\n",
       "      <th>15</th>\n",
       "      <td>Tyre_SOFT</td>\n",
       "      <td>0.000000</td>\n",
       "    </tr>\n",
       "    <tr>\n",
       "      <th>14</th>\n",
       "      <td>Tyre_MEDIUM</td>\n",
       "      <td>0.000000</td>\n",
       "    </tr>\n",
       "    <tr>\n",
       "      <th>13</th>\n",
       "      <td>Tyre_HARD</td>\n",
       "      <td>0.000000</td>\n",
       "    </tr>\n",
       "  </tbody>\n",
       "</table>\n",
       "</div>"
      ],
      "text/plain": [
       "               Feature  Importance\n",
       "3        QualiPosition    0.649875\n",
       "17            Humidity    0.050910\n",
       "16             AirTemp    0.038849\n",
       "19           TrackTemp    0.036046\n",
       "10        AvgYPosition    0.033493\n",
       "2          NumPitStops    0.031125\n",
       "5             AvgBrake    0.030899\n",
       "8               AvgRPM    0.021292\n",
       "7             MaxSpeed    0.014692\n",
       "4          AvgThrottle    0.014564\n",
       "12  NumPositionSamples    0.014056\n",
       "20       WindDirection    0.010435\n",
       "6             AvgSpeed    0.009881\n",
       "1             TopSpeed    0.009604\n",
       "22  AvgPitStopDuration    0.009170\n",
       "9         AvgXPosition    0.008266\n",
       "0           AvgLapTime    0.006878\n",
       "11        AvgZPosition    0.003406\n",
       "21           WindSpeed    0.003347\n",
       "18            Pressure    0.003212\n",
       "15           Tyre_SOFT    0.000000\n",
       "14         Tyre_MEDIUM    0.000000\n",
       "13           Tyre_HARD    0.000000"
      ]
     },
     "execution_count": 52,
     "metadata": {},
     "output_type": "execute_result"
    }
   ],
   "source": [
    "feature_importance_df"
   ]
  },
  {
   "cell_type": "markdown",
   "metadata": {},
   "source": [
    "## Residual Analysis\n",
    "\n",
    "Plot Residuals: Analyze the difference between predicted and actual positions."
   ]
  },
  {
   "cell_type": "code",
   "execution_count": 53,
   "metadata": {},
   "outputs": [
    {
     "data": {
      "image/png": "[encoded data removed]",
      "text/plain": [
       "<Figure size 1000x600 with 1 Axes>"
      ]
     },
     "metadata": {},
     "output_type": "display_data"
    }
   ],
   "source": [
    "residuals = y_test - y_pred\n",
    "plt.figure(figsize=(10,6))\n",
    "sns.histplot(residuals, bins=20, kde=True)\n",
    "plt.title('Residuals Distribution')\n",
    "plt.xlabel('Residual (Actual - Predicted Position)')\n",
    "plt.ylabel('Frequency')\n",
    "plt.show()"
   ]
  },
  {
   "cell_type": "markdown",
   "metadata": {},
   "source": [
    "Observation: Look for patterns in residuals. If residuals are not randomly distributed, it may indicate model biases."
   ]
  },
  {
   "cell_type": "code",
   "execution_count": 54,
   "metadata": {},
   "outputs": [
    {
     "name": "stdout",
     "output_type": "stream",
     "text": [
      "Number of drivers without qualifying position: 0\n"
     ]
    }
   ],
   "source": [
    "# Check alignment\n",
    "mismatches = results_with_features[results_with_features['QualiPosition'].isnull()]\n",
    "print(f\"Number of drivers without qualifying position: {len(mismatches)}\")"
   ]
  },
  {
   "cell_type": "code",
   "execution_count": 55,
   "metadata": {},
   "outputs": [
    {
     "data": {
      "image/png": "[encoded data removed]",
      "text/plain": [
       "<Figure size 800x600 with 1 Axes>"
      ]
     },
     "metadata": {},
     "output_type": "display_data"
    }
   ],
   "source": [
    "plt.figure(figsize=(8,6))\n",
    "sns.histplot(results_with_features['TopSpeed'], bins=20, kde=True)\n",
    "plt.title('Top Speed Distribution')\n",
    "plt.xlabel('Top Speed (km/h)')\n",
    "plt.show()"
   ]
  },
  {
   "cell_type": "code",
   "execution_count": 56,
   "metadata": {},
   "outputs": [
    {
     "name": "stdout",
     "output_type": "stream",
     "text": [
      "AirTemp          0.001699\n",
      "Humidity         0.084815\n",
      "Pressure         0.095695\n",
      "TrackTemp        0.040916\n",
      "WindDirection    0.323021\n",
      "WindSpeed        0.000254\n",
      "dtype: object\n"
     ]
    }
   ],
   "source": [
    "# Check variance in weather features\n",
    "weather_features = ['AirTemp', 'Humidity', 'Pressure', 'TrackTemp', 'WindDirection', 'WindSpeed']\n",
    "variance = results_with_features[weather_features].var()\n",
    "print(variance)"
   ]
  },
  {
   "cell_type": "code",
   "execution_count": null,
   "metadata": {},
   "outputs": [],
   "source": [
    "from sklearn.model_selection import GridSearchCV\n",
    "\n",
    "param_grid = {\n",
    "    'n_estimators': [100, 200, 500],\n",
    "    'max_depth': [None, 10, 20],\n",
    "    'min_samples_split': [2, 5],\n",
    "    'min_samples_leaf': [1, 2]\n",
    "}\n",
    "\n",
    "grid_search = GridSearchCV(estimator=model, param_grid=param_grid, cv=3, n_jobs=-1, verbose=2)\n",
    "grid_search.fit(X_train, y_train)\n",
    "\n",
    "print(f\"Best parameters: {grid_search.best_params_}\")"
   ]
  },
  {
   "cell_type": "code",
   "execution_count": null,
   "metadata": {},
   "outputs": [],
   "source": [
    "best_model = grid_search.best_estimator_\n",
    "y_pred = best_model.predict(X_test)\n",
    "mae = mean_absolute_error(y_test, y_pred)\n",
    "print(f\"Optimized Mean Absolute Error: {mae}\")"
   ]
  },
  {
   "cell_type": "code",
   "execution_count": null,
   "metadata": {},
   "outputs": [],
   "source": [
    "from sklearn.model_selection import cross_val_score\n",
    "\n",
    "cv_scores = cross_val_score(model, X_scaled, y, cv=5, scoring='neg_mean_absolute_error')\n",
    "mean_cv_mae = -cv_scores.mean()\n",
    "print(f\"Cross-Validated MAE: {mean_cv_mae}\")"
   ]
  },
  {
   "cell_type": "code",
   "execution_count": null,
   "metadata": {},
   "outputs": [],
   "source": [
    "from xgboost import XGBRegressor\n",
    "\n",
    "xgb_model = XGBRegressor(random_state=42)\n",
    "xgb_model.fit(X_train, y_train)\n",
    "y_pred = xgb_model.predict(X_test)\n",
    "mae = mean_absolute_error(y_test, y_pred)\n",
    "print(f\"XGBoost MAE: {mae}\")"
   ]
  },
  {
   "cell_type": "code",
   "execution_count": null,
   "metadata": {},
   "outputs": [],
   "source": [
    "import lightgbm as lgb\n",
    "\n",
    "lgb_model = lgb.LGBMRegressor(random_state=42)\n",
    "lgb_model.fit(X_train, y_train)\n",
    "y_pred = lgb_model.predict(X_test)\n",
    "mae = mean_absolute_error(y_test, y_pred)\n",
    "print(f\"LightGBM MAE: {mae}\")"
   ]
  },
  {
   "cell_type": "code",
   "execution_count": null,
   "metadata": {},
   "outputs": [],
   "source": [
    "from catboost import CatBoostRegressor\n",
    "\n",
    "cat_model = CatBoostRegressor(verbose=0, random_state=42)\n",
    "cat_model.fit(X_train, y_train)\n",
    "y_pred = cat_model.predict(X_test)\n",
    "mae = mean_absolute_error(y_test, y_pred)\n",
    "print(f\"CatBoost MAE: {mae}\")"
   ]
  },
  {
   "cell_type": "code",
   "execution_count": null,
   "metadata": {},
   "outputs": [],
   "source": [
    "from tensorflow.keras.models import Sequential\n",
    "from tensorflow.keras.layers import Dense\n",
    "\n",
    "xx_train = np.array(X_train)\n",
    "xx_test = np.array(X_test)\n",
    "yy_train = np.array(y_train)\n",
    "yy_test = np.array(y_test)\n",
    "\n",
    "# Verify the data types and shapes\n",
    "print(f\"xx_train type: {type(xx_train)}, shape: {xx_train.shape}\")\n",
    "print(f\"xx_test type: {type(xx_test)}, shape: {xx_test.shape}\")\n",
    "print(f\"yy_train type: {type(yy_train)}, shape: {yy_train.shape}\")\n",
    "print(f\"yy_test type: {type(yy_test)}, shape: {yy_test.shape}\")\n",
    "\n",
    "nn_model = Sequential()\n",
    "nn_model.add(Dense(64, input_dim=xx_train.shape[1], activation='relu'))\n",
    "nn_model.add(Dense(32, activation='relu'))\n",
    "nn_model.add(Dense(1))\n",
    "\n",
    "nn_model.compile(optimizer='adam', loss='mean_absolute_error')\n",
    "nn_model.fit(xx_train, yy_train, epochs=100, batch_size=8, verbose=0)\n",
    "\n",
    "y_pred = nn_model.predict(xx_test).flatten()\n",
    "mae = mean_absolute_error(yy_test, y_pred)\n",
    "print(f\"Neural Network MAE: {mae}\")"
   ]
  },
  {
   "cell_type": "code",
   "execution_count": null,
   "metadata": {},
   "outputs": [],
   "source": [
    "# Driver and Team Selection\n",
    "driver_list = results_with_features['DriverNumber'].unique().tolist()\n",
    "selected_driver = st.selectbox('Select Driver', driver_list)\n",
    "\n",
    "team_list = results_with_features['TeamName'].unique().tolist()\n",
    "selected_team = st.selectbox('Select Team', team_list)\n",
    "\n",
    "# Encode driver and team\n",
    "driver_features = [1 if f'Driver_{selected_driver}' == col else 0 for col in driver_dummies.columns]\n",
    "team_features = [1 if f'Team_{selected_team}' == col else 0 for col in team_dummies.columns]\n",
    "\n",
    "# Create input DataFrame\n",
    "input_data = {\n",
    "    'NormalizedAvgLapTime': normalized_avg_lap_time,\n",
    "    'TopSpeed': top_speed,\n",
    "    'NumPitStops': num_pit_stops,\n",
    "    'QualiPosition': quali_position,\n",
    "    # Add other features\n",
    "}\n",
    "\n",
    "# Convert to DataFrame\n",
    "input_df = pd.DataFrame([input_data])\n",
    "\n",
    "# Append driver and team features\n",
    "input_df = pd.concat([input_df, pd.DataFrame([driver_features + team_features], columns=driver_dummies.columns.tolist() + team_dummies.columns.tolist())], axis=1)\n",
    "\n",
    "# Ensure feature order\n",
    "input_df = input_df[features]\n",
    "\n",
    "# Scale input data\n",
    "input_scaled = scaler.transform(input_df)\n"
   ]
  }
 ],
 "metadata": {
  "kernelspec": {
   "display_name": "venv",
   "language": "python",
   "name": "python3"
  },
  "language_info": {
   "codemirror_mode": {
    "name": "ipython",
    "version": 3
   },
   "file_extension": ".py",
   "mimetype": "text/x-python",
   "name": "python",
   "nbconvert_exporter": "python",
   "pygments_lexer": "ipython3",
   "version": "3.12.2"
  }
 },
 "nbformat": 4,
 "nbformat_minor": 2
}
